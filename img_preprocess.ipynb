{
 "cells": [
  {
   "cell_type": "code",
   "execution_count": 1,
   "metadata": {},
   "outputs": [],
   "source": [
    "import skimage\n",
    "import os\n",
    "# from skimage.io import imread\n",
    "from imageio import imread, imsave\n",
    "from skimage.color import rgb2gray"
   ]
  },
  {
   "cell_type": "code",
   "execution_count": 6,
   "metadata": {},
   "outputs": [],
   "source": [
    "os.makedirs('dataset/test256', exist_ok=True)"
   ]
  },
  {
   "cell_type": "code",
   "execution_count": 7,
   "metadata": {},
   "outputs": [
    {
     "name": "stderr",
     "output_type": "stream",
     "text": [
      "/var/folders/h1/t1l71ry91w7g57bdx5v0y2z40000gn/T/ipykernel_2418/3647429862.py:6: DeprecationWarning: Starting with ImageIO v3 the behavior of this function will switch to that of iio.v3.imread. To keep the current behavior (and make this warning disappear) use `import imageio.v2 as imageio` or call `imageio.v2.imread` directly.\n",
      "  img_obj = imread(img_file)\n"
     ]
    }
   ],
   "source": [
    "data_folder = os.path.join(os.getcwd(), 'dataset/validation')\n",
    "for img in os.listdir(data_folder):\n",
    "    if img.endswith(\".jpg\"):\n",
    "        img_file = os.path.join(data_folder, img)\n",
    "        # print(f'img_file: {img_file}')\n",
    "        img_obj = imread(img_file)\n",
    "        img_obj = skimage.transform.resize(img_obj, (256, 256), anti_aliasing=True)\n",
    "        imsave(f'dataset/test256/r256_{img}', skimage.img_as_ubyte(img_obj))"
   ]
  },
  {
   "cell_type": "code",
   "execution_count": null,
   "metadata": {},
   "outputs": [],
   "source": []
  }
 ],
 "metadata": {
  "kernelspec": {
   "display_name": "Python 3.11.5 64-bit",
   "language": "python",
   "name": "python3"
  },
  "language_info": {
   "codemirror_mode": {
    "name": "ipython",
    "version": 3
   },
   "file_extension": ".py",
   "mimetype": "text/x-python",
   "name": "python",
   "nbconvert_exporter": "python",
   "pygments_lexer": "ipython3",
   "version": "3.11.5"
  },
  "orig_nbformat": 4,
  "vscode": {
   "interpreter": {
    "hash": "b0fa6594d8f4cbf19f97940f81e996739fb7646882a419484c72d19e05852a7e"
   }
  }
 },
 "nbformat": 4,
 "nbformat_minor": 2
}
