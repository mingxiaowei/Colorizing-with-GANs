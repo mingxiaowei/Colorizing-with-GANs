{
 "cells": [
  {
   "cell_type": "code",
   "execution_count": 5,
   "metadata": {},
   "outputs": [],
   "source": [
    "import skimage\n",
    "import os\n",
    "from utils import *\n",
    "from skimage.color import rgb2gray\n",
    "from skimage.io import imread, imsave"
   ]
  },
  {
   "cell_type": "code",
   "execution_count": 6,
   "metadata": {},
   "outputs": [],
   "source": [
    "os.makedirs('dataset/test256', exist_ok=True)"
   ]
  },
  {
   "cell_type": "code",
   "execution_count": 7,
   "metadata": {},
   "outputs": [
    {
     "name": "stderr",
     "output_type": "stream",
     "text": [
      "/var/folders/h1/t1l71ry91w7g57bdx5v0y2z40000gn/T/ipykernel_2418/3647429862.py:6: DeprecationWarning: Starting with ImageIO v3 the behavior of this function will switch to that of iio.v3.imread. To keep the current behavior (and make this warning disappear) use `import imageio.v2 as imageio` or call `imageio.v2.imread` directly.\n",
      "  img_obj = imread(img_file)\n"
     ]
    }
   ],
   "source": [
    "data_folder = os.path.join(os.getcwd(), 'dataset/validation')\n",
    "for img in os.listdir(data_folder):\n",
    "    if img.endswith(\".jpg\"):\n",
    "        img_file = os.path.join(data_folder, img)\n",
    "        # print(f'img_file: {img_file}')\n",
    "        img_obj = img_read(img_file)\n",
    "        img_obj = skimage.transform.resize(img_obj, (256, 256), anti_aliasing=True)\n",
    "        img_save(f'dataset/test256/r256_{img}', skimage.img_as_ubyte(img_obj))"
   ]
  },
  {
   "cell_type": "code",
   "execution_count": 6,
   "metadata": {},
   "outputs": [],
   "source": [
    "os.makedirs('dataset/cifar10_test_img', exist_ok=True)"
   ]
  },
  {
   "cell_type": "code",
   "execution_count": 11,
   "metadata": {},
   "outputs": [],
   "source": [
    "data = unpickle('dataset/cifar10/test_batch')\n",
    "for i, img in enumerate(data[b'data']):\n",
    "    img_obj = img.reshape((3, 32, 32)).transpose(1, 2, 0)\n",
    "    # img_obj = skimage.transform.resize(img_obj, (256, 256), anti_aliasing=True)\n",
    "    img_save(f'dataset/cifar10_test_img/c256_{i}.jpg', skimage.img_as_ubyte(img_obj))"
   ]
  },
  {
   "cell_type": "code",
   "execution_count": 2,
   "metadata": {},
   "outputs": [
    {
     "data": {
      "text/plain": [
       "'/Users/mingxiaowei/Desktop/Colorizing-with-GANs'"
      ]
     },
     "execution_count": 2,
     "metadata": {},
     "output_type": "execute_result"
    }
   ],
   "source": [
    "os.getcwd()"
   ]
  },
  {
   "cell_type": "code",
   "execution_count": 4,
   "metadata": {},
   "outputs": [],
   "source": [
    "os.makedirs('dataset/cifar10_train_img', exist_ok=True)"
   ]
  },
  {
   "cell_type": "code",
   "execution_count": 7,
   "metadata": {},
   "outputs": [],
   "source": [
    "cifar10_dir = 'dataset/cifar10/'\n",
    "i = 0\n",
    "for batch_name in os.listdir(cifar10_dir):\n",
    "    if batch_name.startswith('data_'):\n",
    "        data = unpickle(f'dataset/cifar10/{batch_name}')\n",
    "        for img in data[b'data']:\n",
    "            img_obj = img.reshape((3, 32, 32)).transpose(1, 2, 0)\n",
    "            img_save(f'dataset/cifar10_train_img/c256_{i}.jpg', skimage.img_as_ubyte(img_obj))\n",
    "            i += 1"
   ]
  },
  {
   "cell_type": "code",
   "execution_count": 10,
   "metadata": {},
   "outputs": [],
   "source": [
    "def folder_resize_to(folder, size=(256, 256)):\n",
    "    data_folder = os.path.join(os.getcwd(), folder)\n",
    "    if folder[-1] == '/':\n",
    "        parent_dir = folder[:-1]\n",
    "    else:\n",
    "        parent_dir = folder\n",
    "    save_folder = parent_dir + '_256'\n",
    "    print(f'Saving to {save_folder}')\n",
    "    os.makedirs(save_folder, exist_ok=True)\n",
    "    for img in os.listdir(data_folder):\n",
    "        if img.endswith(\".jpg\"):\n",
    "            img_file = os.path.join(data_folder, img)\n",
    "            img_obj = imread(img_file)\n",
    "            img_obj = skimage.transform.resize(img_obj, size, anti_aliasing=True)\n",
    "            imsave(f'{save_folder}/r256_{img}', skimage.img_as_ubyte(img_obj))"
   ]
  },
  {
   "cell_type": "code",
   "execution_count": 9,
   "metadata": {},
   "outputs": [
    {
     "name": "stdout",
     "output_type": "stream",
     "text": [
      "Saving to dataset/simpsons_train_256\n"
     ]
    }
   ],
   "source": [
    "folder_resize_to('dataset/simpsons_train/')"
   ]
  },
  {
   "cell_type": "code",
   "execution_count": 11,
   "metadata": {},
   "outputs": [
    {
     "name": "stdout",
     "output_type": "stream",
     "text": [
      "Saving to dataset/simpsons_val_256\n"
     ]
    }
   ],
   "source": [
    "folder_resize_to('dataset/simpsons_val/')"
   ]
  },
  {
   "cell_type": "code",
   "execution_count": null,
   "metadata": {},
   "outputs": [],
   "source": []
  }
 ],
 "metadata": {
  "kernelspec": {
   "display_name": "Python 3.11.5 64-bit",
   "language": "python",
   "name": "python3"
  },
  "language_info": {
   "codemirror_mode": {
    "name": "ipython",
    "version": 3
   },
   "file_extension": ".py",
   "mimetype": "text/x-python",
   "name": "python",
   "nbconvert_exporter": "python",
   "pygments_lexer": "ipython3",
   "version": "3.11.5"
  },
  "orig_nbformat": 4,
  "vscode": {
   "interpreter": {
    "hash": "b0fa6594d8f4cbf19f97940f81e996739fb7646882a419484c72d19e05852a7e"
   }
  }
 },
 "nbformat": 4,
 "nbformat_minor": 2
}
